{
 "cells": [
  {
   "cell_type": "markdown",
   "metadata": {},
   "source": [
    "### Atlantic Exercise \n",
    "\n",
    "By Daniel Elkin"
   ]
  },
  {
   "cell_type": "code",
   "execution_count": 1,
   "metadata": {},
   "outputs": [],
   "source": [
    "import numpy as np\n",
    "import matplotlib as plt\n",
    "import pandas as pd"
   ]
  },
  {
   "cell_type": "code",
   "execution_count": 4,
   "metadata": {},
   "outputs": [],
   "source": [
    "%matplotlib inline"
   ]
  },
  {
   "cell_type": "code",
   "execution_count": 188,
   "metadata": {},
   "outputs": [],
   "source": [
    "def plot_df(df, title, xlab, ylab, ylim=None):\n",
    "    \"\"\"\n",
    "    Helper for the repeated graphing operations below.\n",
    "    \n",
    "    Args:\n",
    "        df - the dataframe to plot\n",
    "        title - title of the graph\n",
    "        xlab - label for the x-axis\n",
    "        ylab - label for the y-axis\n",
    "        ylim - scale of the y-axis\n",
    "        \n",
    "    Returns:\n",
    "        None\n",
    "    \"\"\"\n",
    "\n",
    "    ax = df.plot(figsize=(10, 5), title=title)\n",
    "    ax.set_xlabel(xlab)\n",
    "    ax.set_ylabel(ylab)\n",
    "    \n",
    "    if ylim:\n",
    "        ax.set_ylim(ylim)"
   ]
  },
  {
   "cell_type": "markdown",
   "metadata": {},
   "source": [
    "### I. Data preparation"
   ]
  },
  {
   "cell_type": "markdown",
   "metadata": {},
   "source": [
    "Create a dataframe from the data, skipping malformed rows and converting the date columns to datetimes."
   ]
  },
  {
   "cell_type": "code",
   "execution_count": 2,
   "metadata": {},
   "outputs": [
    {
     "name": "stderr",
     "output_type": "stream",
     "text": [
      "b'Skipping line 249069: expected 7 fields, saw 16\\n'\n",
      "b'Skipping line 626179: expected 7 fields, saw 9\\n'\n",
      "b'Skipping line 1133126: expected 7 fields, saw 22\\n'\n",
      "b'Skipping line 1198292: expected 7 fields, saw 13\\nSkipping line 1286414: expected 7 fields, saw 28\\n'\n",
      "b'Skipping line 1783537: expected 7 fields, saw 33\\n'\n",
      "b'Skipping line 1975238: expected 7 fields, saw 17\\n'\n"
     ]
    }
   ],
   "source": [
    "df = pd.read_csv(\"data/analyst_hw.tsv\",\n",
    "                     delim_whitespace=True,\n",
    "                     error_bad_lines=False,\n",
    "                     header=0, \n",
    "                     parse_dates=[\"visit_date\", \"publication_date\"])\n"
   ]
  },
  {
   "cell_type": "markdown",
   "metadata": {},
   "source": [
    "Inspect the dataframe."
   ]
  },
  {
   "cell_type": "code",
   "execution_count": 72,
   "metadata": {},
   "outputs": [
    {
     "name": "stdout",
     "output_type": "stream",
     "text": [
      "<class 'pandas.core.frame.DataFrame'>\n",
      "RangeIndex: 2001871 entries, 0 to 2001870\n",
      "Data columns (total 7 columns):\n",
      "visitor_id          object\n",
      "visit_date          datetime64[ns]\n",
      "visit_hour          int64\n",
      "url_id              object\n",
      "site_section        object\n",
      "publication_date    datetime64[ns]\n",
      "publication_hour    int64\n",
      "dtypes: datetime64[ns](2), int64(2), object(3)\n",
      "memory usage: 106.9+ MB\n"
     ]
    }
   ],
   "source": [
    "df.info()"
   ]
  },
  {
   "cell_type": "code",
   "execution_count": 73,
   "metadata": {},
   "outputs": [
    {
     "data": {
      "text/html": [
       "<div>\n",
       "<style scoped>\n",
       "    .dataframe tbody tr th:only-of-type {\n",
       "        vertical-align: middle;\n",
       "    }\n",
       "\n",
       "    .dataframe tbody tr th {\n",
       "        vertical-align: top;\n",
       "    }\n",
       "\n",
       "    .dataframe thead th {\n",
       "        text-align: right;\n",
       "    }\n",
       "</style>\n",
       "<table border=\"1\" class=\"dataframe\">\n",
       "  <thead>\n",
       "    <tr style=\"text-align: right;\">\n",
       "      <th></th>\n",
       "      <th>visitor_id</th>\n",
       "      <th>visit_date</th>\n",
       "      <th>visit_hour</th>\n",
       "      <th>url_id</th>\n",
       "      <th>site_section</th>\n",
       "      <th>publication_date</th>\n",
       "      <th>publication_hour</th>\n",
       "    </tr>\n",
       "  </thead>\n",
       "  <tbody>\n",
       "    <tr>\n",
       "      <th>0</th>\n",
       "      <td>SNSMrjUkQw/foPv5hRQVpQ==</td>\n",
       "      <td>2018-03-12</td>\n",
       "      <td>17</td>\n",
       "      <td>+VAVDTcwiN39A1wI+AMfAQ==</td>\n",
       "      <td>/technology/</td>\n",
       "      <td>2018-03-12</td>\n",
       "      <td>15</td>\n",
       "    </tr>\n",
       "    <tr>\n",
       "      <th>1</th>\n",
       "      <td>7ZmbLaKLEhf0XIVwICyiSA==</td>\n",
       "      <td>2018-03-12</td>\n",
       "      <td>10</td>\n",
       "      <td>2mXxdmD6ysfWw82+9T6OlA==</td>\n",
       "      <td>/business/</td>\n",
       "      <td>2018-02-22</td>\n",
       "      <td>12</td>\n",
       "    </tr>\n",
       "    <tr>\n",
       "      <th>2</th>\n",
       "      <td>rGzdTSm1D6K6BEQHOEQ37g==</td>\n",
       "      <td>2018-03-12</td>\n",
       "      <td>17</td>\n",
       "      <td>RJkBuEQLELyj66QjJkg1uA==</td>\n",
       "      <td>/business/</td>\n",
       "      <td>2018-03-11</td>\n",
       "      <td>15</td>\n",
       "    </tr>\n",
       "    <tr>\n",
       "      <th>3</th>\n",
       "      <td>3IlL9al+8Gr+ORA5w7oU6Q==</td>\n",
       "      <td>2018-03-12</td>\n",
       "      <td>11</td>\n",
       "      <td>uGrr1+tQEYsPD0t4tJg0rg==</td>\n",
       "      <td>/magazine/</td>\n",
       "      <td>2018-03-06</td>\n",
       "      <td>15</td>\n",
       "    </tr>\n",
       "    <tr>\n",
       "      <th>4</th>\n",
       "      <td>sf9ahOgrG7K4yHmnSE/nOg==</td>\n",
       "      <td>2018-03-12</td>\n",
       "      <td>12</td>\n",
       "      <td>uGrr1+tQEYsPD0t4tJg0rg==</td>\n",
       "      <td>/magazine/</td>\n",
       "      <td>2018-03-06</td>\n",
       "      <td>15</td>\n",
       "    </tr>\n",
       "  </tbody>\n",
       "</table>\n",
       "</div>"
      ],
      "text/plain": [
       "                 visitor_id visit_date  visit_hour                    url_id  \\\n",
       "0  SNSMrjUkQw/foPv5hRQVpQ== 2018-03-12          17  +VAVDTcwiN39A1wI+AMfAQ==   \n",
       "1  7ZmbLaKLEhf0XIVwICyiSA== 2018-03-12          10  2mXxdmD6ysfWw82+9T6OlA==   \n",
       "2  rGzdTSm1D6K6BEQHOEQ37g== 2018-03-12          17  RJkBuEQLELyj66QjJkg1uA==   \n",
       "3  3IlL9al+8Gr+ORA5w7oU6Q== 2018-03-12          11  uGrr1+tQEYsPD0t4tJg0rg==   \n",
       "4  sf9ahOgrG7K4yHmnSE/nOg== 2018-03-12          12  uGrr1+tQEYsPD0t4tJg0rg==   \n",
       "\n",
       "   site_section publication_date  publication_hour  \n",
       "0  /technology/       2018-03-12                15  \n",
       "1    /business/       2018-02-22                12  \n",
       "2    /business/       2018-03-11                15  \n",
       "3    /magazine/       2018-03-06                15  \n",
       "4    /magazine/       2018-03-06                15  "
      ]
     },
     "execution_count": 73,
     "metadata": {},
     "output_type": "execute_result"
    }
   ],
   "source": [
    "df.head()"
   ]
  },
  {
   "cell_type": "markdown",
   "metadata": {},
   "source": [
    "The file was parsed correctly and the datetimes were successfully converted. There are over two million rows to analyze."
   ]
  },
  {
   "cell_type": "markdown",
   "metadata": {},
   "source": [
    "### II. Data exploration"
   ]
  },
  {
   "cell_type": "markdown",
   "metadata": {},
   "source": [
    "Inspect the key variables of interest."
   ]
  },
  {
   "cell_type": "code",
   "execution_count": 96,
   "metadata": {},
   "outputs": [
    {
     "data": {
      "text/html": [
       "<div>\n",
       "<style scoped>\n",
       "    .dataframe tbody tr th:only-of-type {\n",
       "        vertical-align: middle;\n",
       "    }\n",
       "\n",
       "    .dataframe tbody tr th {\n",
       "        vertical-align: top;\n",
       "    }\n",
       "\n",
       "    .dataframe thead th {\n",
       "        text-align: right;\n",
       "    }\n",
       "</style>\n",
       "<table border=\"1\" class=\"dataframe\">\n",
       "  <thead>\n",
       "    <tr style=\"text-align: right;\">\n",
       "      <th></th>\n",
       "      <th>publication_date</th>\n",
       "      <th>publication_hour</th>\n",
       "      <th>visit_date</th>\n",
       "      <th>visit_hour</th>\n",
       "      <th>site_section</th>\n",
       "    </tr>\n",
       "  </thead>\n",
       "  <tbody>\n",
       "    <tr>\n",
       "      <th>count</th>\n",
       "      <td>2001871</td>\n",
       "      <td>2.001871e+06</td>\n",
       "      <td>2001871</td>\n",
       "      <td>2.001871e+06</td>\n",
       "      <td>2001871</td>\n",
       "    </tr>\n",
       "    <tr>\n",
       "      <th>unique</th>\n",
       "      <td>73</td>\n",
       "      <td>NaN</td>\n",
       "      <td>31</td>\n",
       "      <td>NaN</td>\n",
       "      <td>736</td>\n",
       "    </tr>\n",
       "    <tr>\n",
       "      <th>top</th>\n",
       "      <td>2018-02-26 00:00:00</td>\n",
       "      <td>NaN</td>\n",
       "      <td>2018-03-13 00:00:00</td>\n",
       "      <td>NaN</td>\n",
       "      <td>/politics/</td>\n",
       "    </tr>\n",
       "    <tr>\n",
       "      <th>freq</th>\n",
       "      <td>350205</td>\n",
       "      <td>NaN</td>\n",
       "      <td>81236</td>\n",
       "      <td>NaN</td>\n",
       "      <td>316348</td>\n",
       "    </tr>\n",
       "    <tr>\n",
       "      <th>first</th>\n",
       "      <td>2018-01-15 00:00:00</td>\n",
       "      <td>NaN</td>\n",
       "      <td>2018-03-01 00:00:00</td>\n",
       "      <td>NaN</td>\n",
       "      <td>NaN</td>\n",
       "    </tr>\n",
       "    <tr>\n",
       "      <th>last</th>\n",
       "      <td>2018-03-31 00:00:00</td>\n",
       "      <td>NaN</td>\n",
       "      <td>2018-03-31 00:00:00</td>\n",
       "      <td>NaN</td>\n",
       "      <td>NaN</td>\n",
       "    </tr>\n",
       "    <tr>\n",
       "      <th>mean</th>\n",
       "      <td>NaN</td>\n",
       "      <td>1.268171e+01</td>\n",
       "      <td>NaN</td>\n",
       "      <td>1.350084e+01</td>\n",
       "      <td>NaN</td>\n",
       "    </tr>\n",
       "    <tr>\n",
       "      <th>std</th>\n",
       "      <td>NaN</td>\n",
       "      <td>2.556255e+00</td>\n",
       "      <td>NaN</td>\n",
       "      <td>3.450397e+00</td>\n",
       "      <td>NaN</td>\n",
       "    </tr>\n",
       "    <tr>\n",
       "      <th>min</th>\n",
       "      <td>NaN</td>\n",
       "      <td>4.000000e+00</td>\n",
       "      <td>NaN</td>\n",
       "      <td>8.000000e+00</td>\n",
       "      <td>NaN</td>\n",
       "    </tr>\n",
       "    <tr>\n",
       "      <th>25%</th>\n",
       "      <td>NaN</td>\n",
       "      <td>1.100000e+01</td>\n",
       "      <td>NaN</td>\n",
       "      <td>1.100000e+01</td>\n",
       "      <td>NaN</td>\n",
       "    </tr>\n",
       "    <tr>\n",
       "      <th>50%</th>\n",
       "      <td>NaN</td>\n",
       "      <td>1.300000e+01</td>\n",
       "      <td>NaN</td>\n",
       "      <td>1.400000e+01</td>\n",
       "      <td>NaN</td>\n",
       "    </tr>\n",
       "    <tr>\n",
       "      <th>75%</th>\n",
       "      <td>NaN</td>\n",
       "      <td>1.500000e+01</td>\n",
       "      <td>NaN</td>\n",
       "      <td>1.600000e+01</td>\n",
       "      <td>NaN</td>\n",
       "    </tr>\n",
       "    <tr>\n",
       "      <th>max</th>\n",
       "      <td>NaN</td>\n",
       "      <td>2.000000e+01</td>\n",
       "      <td>NaN</td>\n",
       "      <td>1.900000e+01</td>\n",
       "      <td>NaN</td>\n",
       "    </tr>\n",
       "  </tbody>\n",
       "</table>\n",
       "</div>"
      ],
      "text/plain": [
       "           publication_date  publication_hour           visit_date  \\\n",
       "count               2001871      2.001871e+06              2001871   \n",
       "unique                   73               NaN                   31   \n",
       "top     2018-02-26 00:00:00               NaN  2018-03-13 00:00:00   \n",
       "freq                 350205               NaN                81236   \n",
       "first   2018-01-15 00:00:00               NaN  2018-03-01 00:00:00   \n",
       "last    2018-03-31 00:00:00               NaN  2018-03-31 00:00:00   \n",
       "mean                    NaN      1.268171e+01                  NaN   \n",
       "std                     NaN      2.556255e+00                  NaN   \n",
       "min                     NaN      4.000000e+00                  NaN   \n",
       "25%                     NaN      1.100000e+01                  NaN   \n",
       "50%                     NaN      1.300000e+01                  NaN   \n",
       "75%                     NaN      1.500000e+01                  NaN   \n",
       "max                     NaN      2.000000e+01                  NaN   \n",
       "\n",
       "          visit_hour site_section  \n",
       "count   2.001871e+06      2001871  \n",
       "unique           NaN          736  \n",
       "top              NaN   /politics/  \n",
       "freq             NaN       316348  \n",
       "first            NaN          NaN  \n",
       "last             NaN          NaN  \n",
       "mean    1.350084e+01          NaN  \n",
       "std     3.450397e+00          NaN  \n",
       "min     8.000000e+00          NaN  \n",
       "25%     1.100000e+01          NaN  \n",
       "50%     1.400000e+01          NaN  \n",
       "75%     1.600000e+01          NaN  \n",
       "max     1.900000e+01          NaN  "
      ]
     },
     "execution_count": 96,
     "metadata": {},
     "output_type": "execute_result"
    }
   ],
   "source": [
    "cols = [\"publication_date\", \"publication_hour\", \"visit_date\", \"visit_hour\", \"site_section\"]\n",
    "df[cols].describe(include=\"all\")"
   ]
  },
  {
   "cell_type": "markdown",
   "metadata": {},
   "source": [
    "We see from the counts that there is complete data for each variable and that we have articles published between mid-January and the end of March 2018 and visitor data for the month of March. \n",
    "\n",
    "Politics appears to be the most-visited section, but one oddity is the large number of unique sections. Examining the unique values reveals that sections may not have been extracted correctly from pages that were translated. This may be something we would want to cleanup."
   ]
  },
  {
   "cell_type": "code",
   "execution_count": 117,
   "metadata": {},
   "outputs": [
    {
     "data": {
      "text/plain": [
       "111      /translate_c?depth=1&hl=hi&nv=1&prev=search&ru...\n",
       "13518    /translate_c?depth=1&hl=es&prev=search&rurl=tr...\n",
       "34353    /translate_c?depth=1&hl=fr&rurl=translate.goog...\n",
       "42651    /translate_c?depth=1&hl=fr&prev=search&rurl=tr...\n",
       "44604    /translate_c?depth=1&hl=zh-CN&ie=UTF8&prev=_t&...\n",
       "Name: site_section, dtype: object"
      ]
     },
     "execution_count": 117,
     "metadata": {},
     "output_type": "execute_result"
    }
   ],
   "source": [
    "df[df[\"site_section\"].str.contains(\"translate\")].site_section.head()"
   ]
  },
  {
   "cell_type": "markdown",
   "metadata": {},
   "source": [
    "For now, we'll examine some of the individual variables in more detail to answer the questions from the prompt."
   ]
  },
  {
   "cell_type": "markdown",
   "metadata": {},
   "source": [
    "#### a. Publication hour"
   ]
  },
  {
   "cell_type": "markdown",
   "metadata": {},
   "source": [
    "We'll first look at the times of day when articles tend to be published. From the table above, we know that articles are published between 4:00am and 8:00pm and that they are on average published at around 1:30pm, but let's visualize the distribution."
   ]
  },
  {
   "cell_type": "code",
   "execution_count": 190,
   "metadata": {},
   "outputs": [
    {
     "data": {
      "image/png": "[encoded data removed]",
      "text/plain": [
       "<Figure size 720x360 with 1 Axes>"
      ]
     },
     "metadata": {
      "needs_background": "light"
     },
     "output_type": "display_data"
    }
   ],
   "source": [
    "grouped = df.groupby(\"publication_hour\").publication_hour.count()\n",
    "\n",
    "plot_df(grouped,\n",
    "        title=\"Count of articles by time of day \\n (1/15/2018 - 03/31/2018)\",\n",
    "        xlab=\"Hour of publication (24-hr clock)\",\n",
    "        ylab=\"Number of articles\")†"
   ]
  },
  {
   "cell_type": "markdown",
   "metadata": {},
   "source": [
    "These results look reasonable. Some articles are published in the morning, there is a dip, perhaps for lunch at noon, and then the majority of articles are published in the afternoon. The dip at 2:00pm is somewhat surprising but is perhaps explained by something organization-specific."
   ]
  },
  {
   "cell_type": "markdown",
   "metadata": {},
   "source": [
    "#### b. Visit date"
   ]
  },
  {
   "cell_type": "markdown",
   "metadata": {},
   "source": [
    "Inspect how the visit rate changes over the course of the month."
   ]
  },
  {
   "cell_type": "code",
   "execution_count": 192,
   "metadata": {},
   "outputs": [
    {
     "data": {
      "image/png": "[encoded data removed]",
      "text/plain": [
       "<Figure size 720x360 with 1 Axes>"
      ]
     },
     "metadata": {
      "needs_background": "light"
     },
     "output_type": "display_data"
    }
   ],
   "source": [
    "grouped = df.groupby(\"visit_date\").visit_date.count()\n",
    "\n",
    "plot_df(grouped, \n",
    "        title=\"Count of visits by day of month\",\n",
    "        xlab=\"Day of month\",\n",
    "        ylab=\"Number of visits\",\n",
    "        ylim=(0, 90000))"
   ]
  },
  {
   "cell_type": "markdown",
   "metadata": {},
   "source": [
    "There is some cyclicality visible here, which can probably be attributed to fewer visitors on certain days of the week. Let's see which day of the week corresponds to 3/10, which is one trough in the graph. "
   ]
  },
  {
   "cell_type": "code",
   "execution_count": 122,
   "metadata": {},
   "outputs": [
    {
     "data": {
      "text/plain": [
       "'Saturday'"
      ]
     },
     "execution_count": 122,
     "metadata": {},
     "output_type": "execute_result"
    }
   ],
   "source": [
    "import calendar, datetime\n",
    "calendar.day_name[datetime.datetime(2018, 3, 10).weekday()]"
   ]
  },
  {
   "cell_type": "markdown",
   "metadata": {},
   "source": [
    "Let's also look at total visits for different days of the week."
   ]
  },
  {
   "cell_type": "code",
   "execution_count": 129,
   "metadata": {},
   "outputs": [
    {
     "data": {
      "image/png": "[encoded data removed]",
      "text/plain": [
       "<Figure size 720x360 with 1 Axes>"
      ]
     },
     "metadata": {
      "needs_background": "light"
     },
     "output_type": "display_data"
    }
   ],
   "source": [
    "# create a column for the day of the week of the visit\n",
    "df[\"publication_day_of_week\"] = df.visit_date.dt.day_name()\n",
    "\n",
    "# group by the day of the week and sort accordingly\n",
    "days = ['Monday', 'Tuesday', 'Wednesday', 'Thursday', 'Friday', 'Saturday', 'Sunday']\n",
    "grouped = group_df(df, \"publication_day_of_week\").reindex(days)\n",
    "\n",
    "# plot the results\n",
    "ax = grouped.plot(figsize=(10, 5), \n",
    "                  kind=\"bar\", \n",
    "                  title=\"Count of visits by day of week\")\n",
    "\n",
    "ax.set_xlabel(\"Day of week\")\n",
    "ax.set_ylabel(\"Total visits\")\n",
    "ax.get_legend().remove()"
   ]
  },
  {
   "cell_type": "markdown",
   "metadata": {},
   "source": [
    "This graph gives further evidence that there are fewer visits on weekends."
   ]
  },
  {
   "cell_type": "markdown",
   "metadata": {},
   "source": [
    "#### c. Visit hour"
   ]
  },
  {
   "cell_type": "markdown",
   "metadata": {},
   "source": [
    "We'll next look at the time of day at which visits occur."
   ]
  },
  {
   "cell_type": "code",
   "execution_count": 282,
   "metadata": {},
   "outputs": [
    {
     "data": {
      "image/png": "[encoded data removed]",
      "text/plain": [
       "<Figure size 720x360 with 1 Axes>"
      ]
     },
     "metadata": {
      "needs_background": "light"
     },
     "output_type": "display_data"
    }
   ],
   "source": [
    "grouped = df.groupby(\"visit_hour\").visit_hour.count()\n",
    "\n",
    "plot_df(grouped, \n",
    "        title=\"Count of visits by hour of day \\n (3/1/2018 - 03/31/2018)\",\n",
    "        xlab=\"Hour of visit (24-hr clock)\",\n",
    "        ylab=\"Number of visits\",\n",
    "        ylim=(0, 180000))"
   ]
  },
  {
   "cell_type": "markdown",
   "metadata": {},
   "source": [
    "This graph is quite surprising. Visits appear to be close to uniformly distributed throughout the day from 8:00am to 9:00pm. We would expect there to be more variability. Let's zoom in to see if there's any movement at all."
   ]
  },
  {
   "cell_type": "code",
   "execution_count": 283,
   "metadata": {},
   "outputs": [
    {
     "data": {
      "image/png": "[encoded data removed]",
      "text/plain": [
       "<Figure size 720x360 with 1 Axes>"
      ]
     },
     "metadata": {
      "needs_background": "light"
     },
     "output_type": "display_data"
    }
   ],
   "source": [
    "plot_df(grouped, \n",
    "        title=\"Count of visits by time of day \\n (3/1/2018 - 03/31/2018)\",\n",
    "        xlab=\"Hour of visit (24-hr clock)\",\n",
    "        ylab=\"Number of visits\",\n",
    "        ylim=(165000, 169000))"
   ]
  },
  {
   "cell_type": "markdown",
   "metadata": {},
   "source": [
    "So we see a change of only about 1,500 visits from the least- to the most-frequently visited times of day. \n",
    "\n",
    "Let's look at visits by hour by section of the site to see if there are different distributions by section. Because of the issues with the \"site_section\" variable noted above, we'll use just the five most popular sections. "
   ]
  },
  {
   "cell_type": "code",
   "execution_count": 284,
   "metadata": {},
   "outputs": [
    {
     "data": {
      "text/plain": [
       "site_section\n",
       "/politics/         316348\n",
       "/                  274409\n",
       "/magazine/         192883\n",
       "/entertainment/    161599\n",
       "/health/           129162\n",
       "Name: site_section, dtype: int64"
      ]
     },
     "execution_count": 284,
     "metadata": {},
     "output_type": "execute_result"
    }
   ],
   "source": [
    "NUM_SITES=5\n",
    "top_sites = (df\n",
    "             .groupby(\"site_section\")\n",
    "             .site_section\n",
    "             .count()\n",
    "             .sort_values(ascending=False)[:NUM_SITES])\n",
    "top_sites"
   ]
  },
  {
   "cell_type": "code",
   "execution_count": 220,
   "metadata": {},
   "outputs": [
    {
     "data": {
      "text/plain": [
       "1074401"
      ]
     },
     "execution_count": 220,
     "metadata": {},
     "output_type": "execute_result"
    }
   ],
   "source": [
    "df_top_sites = df[df[\"site_section\"].isin(\n",
    "    top_sites.index.get_values())]\n",
    "\n",
    "len(df_top_sites)"
   ]
  },
  {
   "cell_type": "markdown",
   "metadata": {},
   "source": [
    "We now have about half as much data, from sections such as _politics_ and _entertainment_."
   ]
  },
  {
   "cell_type": "code",
   "execution_count": 281,
   "metadata": {},
   "outputs": [
    {
     "data": {
      "image/png": "[encoded data removed]",
      "text/plain": [
       "<Figure size 720x360 with 1 Axes>"
      ]
     },
     "metadata": {
      "needs_background": "light"
     },
     "output_type": "display_data"
    }
   ],
   "source": [
    "figsize =(10, 5)\n",
    "title = \"Count of visits by section by hour\"\n",
    "\n",
    "ax = (df_top_sites\n",
    "     .groupby([\"site_section\", \"visit_hour\"])\n",
    "     .visit_hour\n",
    "     .count()\n",
    "     .unstack()\n",
    "     .T\n",
    "     .plot(figsize=figsize, title=title))\n",
    "\n",
    "ax.set_xlabel(\"Hour of visit (24-hr clock)\")\n",
    "_ = ax.set_ylabel(\"Number of visits\")"
   ]
  },
  {
   "cell_type": "markdown",
   "metadata": {},
   "source": [
    "The number of visits by hour looks to be similar across the most popular sections of the site with little variability."
   ]
  },
  {
   "cell_type": "markdown",
   "metadata": {},
   "source": [
    "#### d. Other variables "
   ]
  },
  {
   "cell_type": "markdown",
   "metadata": {},
   "source": [
    "In order to explain why the visit rate is so uniform, we'll look at the other variables. For example, perhaps most of the visits happen to be from a bot that has an identical user id and hits the site every minute."
   ]
  },
  {
   "cell_type": "code",
   "execution_count": 292,
   "metadata": {},
   "outputs": [
    {
     "data": {
      "text/plain": [
       "visitor_id\n",
       "O8VQLMsV3chMxy7IIUNgIQ==    1084\n",
       "MTvOBYs7APNysuFmFNkmnw==     771\n",
       "l3S6vLosmMb1TizktARkgQ==     652\n",
       "BRdO+h6dildjjEQcpTnrUw==     619\n",
       "VYT+YwGPqmqV/TwbSOo8pA==     608\n",
       "CDB9zVAqvHT+/jEJgkHR2A==     588\n",
       "8x6HEIJduV8yJJ/rYWQvlw==     581\n",
       "94s0HBqO0OSgiE61PuUTjQ==     553\n",
       "4jQMRpYLcY9Y7tfTRJY9iA==     534\n",
       "U0n9+VEOVBbO3CHwEaYn2w==     514\n",
       "Name: visitor_id, dtype: int64"
      ]
     },
     "execution_count": 292,
     "metadata": {},
     "output_type": "execute_result"
    }
   ],
   "source": [
    "(df\n",
    " .groupby(\"visitor_id\")\n",
    " .visitor_id\n",
    " .count()\n",
    " .sort_values(ascending=False)[:10])"
   ]
  },
  {
   "cell_type": "markdown",
   "metadata": {},
   "source": [
    "The counts for \"visitor_id\" do not tell us much. We cannot identify a single user that is accounting for the majority of visits. Let's also look at the \"url_id\"."
   ]
  },
  {
   "cell_type": "code",
   "execution_count": 294,
   "metadata": {},
   "outputs": [
    {
     "data": {
      "text/plain": [
       "url_id\n",
       "uT9bBIVeFPRblAs978g+fQ==    274409\n",
       "IuXaKC7+qw6rG0cFbB4rNA==     48713\n",
       "uGrr1+tQEYsPD0t4tJg0rg==     34360\n",
       "52SRjAfHy+aJM38iGxX/ag==     13956\n",
       "48Gtp8joeNWBKIePUgp/ng==     13263\n",
       "R41RAvVrziLi8M6Wi0kk0A==     12775\n",
       "HS+VgYmeFPepUqBuU+zg/A==     12396\n",
       "YQuZMKM41R5i+EgfXc1X3A==     11479\n",
       "HlLULhSr7eCaG/w8k2/vow==     11179\n",
       "qeZDUs7n+KrmPk57NNzrrg==      9830\n",
       "Name: url_id, dtype: int64"
      ]
     },
     "execution_count": 294,
     "metadata": {},
     "output_type": "execute_result"
    }
   ],
   "source": [
    "(df\n",
    " .groupby(\"url_id\")\n",
    " .url_id\n",
    " .count()\n",
    " .sort_values(ascending=False)[:10])"
   ]
  },
  {
   "cell_type": "markdown",
   "metadata": {},
   "source": [
    "The counts for the \"url_id\" also do not shed much light on the problem. There are a few unusually popular URLs (possibly corresponding to the homepage), but it is hard to see how these would explain the uniform visit rate."
   ]
  },
  {
   "cell_type": "markdown",
   "metadata": {},
   "source": [
    "### III. Further Work"
   ]
  },
  {
   "cell_type": "markdown",
   "metadata": {},
   "source": [
    "TODO: publication vs visit"
   ]
  },
  {
   "cell_type": "code",
   "execution_count": null,
   "metadata": {},
   "outputs": [],
   "source": []
  }
 ],
 "metadata": {
  "kernelspec": {
   "display_name": "atlantic-elkin",
   "language": "python",
   "name": "atlantic-elkin"
  },
  "language_info": {
   "codemirror_mode": {
    "name": "ipython",
    "version": 3
   },
   "file_extension": ".py",
   "mimetype": "text/x-python",
   "name": "python",
   "nbconvert_exporter": "python",
   "pygments_lexer": "ipython3",
   "version": "3.7.0"
  }
 },
 "nbformat": 4,
 "nbformat_minor": 2
}
